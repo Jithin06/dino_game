{
 "cells": [
  {
   "cell_type": "code",
   "execution_count": 1,
   "metadata": {},
   "outputs": [],
   "source": [
    "import cv2\n",
    "import math\n",
    "import numpy as np \n",
    "import pyautogui"
   ]
  },
  {
   "cell_type": "code",
   "execution_count": 7,
   "metadata": {},
   "outputs": [
    {
     "name": "stderr",
     "output_type": "stream",
     "text": [
      "[ WARN:0@398.585] global /private/var/folders/nz/j6p8yfhx1mv_0grj5xl4650h0000gp/T/abs_562_cazh1h/croots/recipe/opencv-suite_1664548333142/work/modules/videoio/src/cap_gstreamer.cpp (862) isPipelinePlaying OpenCV | GStreamer warning: GStreamer: pipeline have not been created\n"
     ]
    }
   ],
   "source": [
    "# Opening camera \n",
    "\n",
    "vid = cv2.VideoCapture(0)\n",
    "\n",
    "while vid.isOpened():\n",
    "    ret, frame = vid.read()\n",
    "    # cv2.imshow('frame', frame)\n",
    "    cv2.rectangle(frame, (100, 100), (500,500), (0,0,255), 2)\n",
    "    crop_image = frame[100:500, 100:500]\n",
    "    if cv2.waitKey(1) & 0xFF == ord('q'): \n",
    "        break\n",
    "\n",
    "    # Blurring to smoothen edges \n",
    "    blur = cv2.GaussianBlur(crop_image, (3,3), 0)\n",
    "\n",
    "    # Converting to HSV\n",
    "    hsv = cv2.cvtColor(blur, cv2.COLOR_BGR2HSV)\n",
    "\n",
    "    # Creating a mask - skin colors in white and rest black \n",
    "    mask = cv2.inRange(hsv, np.array([2,0,0]), np.array([30,255,255]))\n",
    "\n",
    "    # Morphological operations\n",
    "    kernel = np.ones((5,5))\n",
    "    dilation = cv2.dilate(mask, kernel, iterations=1)\n",
    "    erosion = cv2.erode(dilation, kernel, iterations=1)\n",
    "\n",
    "    blur2 = cv2.GaussianBlur(erosion, (3,3), 0)\n",
    "    ret, thresh = cv2.threshold(blur2, 127, 255, cv2.THRESH_BINARY)\n",
    "\n",
    "    # Finding contours \n",
    "    contours, heirarchy = cv2.findContours(thresh, cv2.RETR_TREE, cv2.CHAIN_APPROX_SIMPLE)\n",
    "\n",
    "    try:\n",
    "        contour = max(contours, key=lambda x: cv2.contourArea(x))\n",
    "\n",
    "        x, y, w, h = cv2.boundingRect(contour)\n",
    "        cv2.rectangle(crop_image, (x, y), (x+w, y+h), (0,0,255), 0)\n",
    "\n",
    "        hull = cv2.convexHull(contour)\n",
    "\n",
    "        drawing = np.zeros(crop_image.shape, np.uint8)\n",
    "        cv2.drawContours(drawing, [contour], -1, (0,255,0), 0)\n",
    "        cv2.drawContours(drawing, [hull], -1, (0,0,255), 0)\n",
    "\n",
    "        hull = cv2.convexHull(contour, returnPoints = False)\n",
    "        defects = cv2.convexityDefects(contour, hull)\n",
    "\n",
    "        count_defects = 0\n",
    "\n",
    "        for i in range(defects.shape[0]):\n",
    "            s, e, f, d = defects[i,0]\n",
    "            start = tuple(contour[s][0])\n",
    "            end = tuple(contour[e][0])\n",
    "            far = tuple(contour[f])[0]\n",
    "\n",
    "            a = math.sqrt((end[0] - start[0]) ** 2 + (end[1] - start[1]) ** 2)\n",
    "            b = math.sqrt((far[0] - start[0]) ** 2 + (far[1] - start[1]) ** 2)\n",
    "            c = math.sqrt((end[0] - far[0]) ** 2 + (end[1] - far[1]) ** 2)\n",
    "            angle = (math.acos((b ** 2 + c ** 2 - a ** 2) / (2 * b * c)) * 180) / 3.14\n",
    "\n",
    "            if angle <= 90:\n",
    "                count_defects += 1\n",
    "                cv2.circle(crop_image, far, 1, [0, 0, 255], -1)\n",
    "\n",
    "            cv2.line(crop_image, start, end, [0,255,0], 2)\n",
    "\n",
    "        if count_defects >= 4:\n",
    "            pyautogui.press('space')\n",
    "            cv2.putText(frame, \"Jump\", (115, 80), cv2.FONT_HERSHEY_SIMPLEX, 2, 2, 2)\n",
    "\n",
    "    except: \n",
    "        pass\n",
    "\n",
    "    cv2.imshow(\"Gesture\", frame)\n",
    "\n",
    "    if cv2.waitKey(1) == ord('q'):\n",
    "        break\n",
    "\n",
    "vid.release()\n",
    "cv2.destroyAllWindows()"
   ]
  },
  {
   "cell_type": "code",
   "execution_count": null,
   "metadata": {},
   "outputs": [],
   "source": []
  }
 ],
 "metadata": {
  "kernelspec": {
   "display_name": "Python 3",
   "language": "python",
   "name": "python3"
  },
  "language_info": {
   "codemirror_mode": {
    "name": "ipython",
    "version": 3
   },
   "file_extension": ".py",
   "mimetype": "text/x-python",
   "name": "python",
   "nbconvert_exporter": "python",
   "pygments_lexer": "ipython3",
   "version": "3.9.undefined"
  }
 },
 "nbformat": 4,
 "nbformat_minor": 2
}
